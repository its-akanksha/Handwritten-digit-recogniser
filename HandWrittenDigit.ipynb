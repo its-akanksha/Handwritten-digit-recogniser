{
  "nbformat": 4,
  "nbformat_minor": 0,
  "metadata": {
    "colab": {
      "provenance": []
    },
    "kernelspec": {
      "name": "python3",
      "display_name": "Python 3"
    },
    "language_info": {
      "name": "python"
    }
  },
  "cells": [
    {
      "cell_type": "code",
      "execution_count": 1,
      "metadata": {
        "id": "I3UGVCUQiiUg"
      },
      "outputs": [],
      "source": [
        "import tensorflow as tf\n",
        "import numpy as np\n",
        "import pandas as pd\n",
        "import matplotlib.pyplot as plt"
      ]
    },
    {
      "cell_type": "code",
      "source": [
        "#Importing the dataset\n",
        "from tensorflow.keras.datasets import mnist"
      ],
      "metadata": {
        "id": "g3NfA67Mitlb"
      },
      "execution_count": 2,
      "outputs": []
    },
    {
      "cell_type": "code",
      "source": [
        "#loading the dataset\n",
        "(x_train, y_train),(x_test, y_test) = mnist.load_data()"
      ],
      "metadata": {
        "id": "sqUxB_9qizF1"
      },
      "execution_count": 4,
      "outputs": []
    },
    {
      "cell_type": "code",
      "source": [
        "# normalize the input data\n",
        "x_train = x_train / 255.0\n",
        "x_test = x_test / 255.0"
      ],
      "metadata": {
        "id": "y9XklYuYi69U"
      },
      "execution_count": 5,
      "outputs": []
    },
    {
      "cell_type": "code",
      "source": [
        "## Checking the minimum and maximum values in x_train again\n",
        "x_train.min(), x_train.max()"
      ],
      "metadata": {
        "colab": {
          "base_uri": "https://localhost:8080/"
        },
        "id": "C67i1s5EjBMX",
        "outputId": "fe6507b0-35b7-4a36-c77d-05f031d6f5af"
      },
      "execution_count": 6,
      "outputs": [
        {
          "output_type": "execute_result",
          "data": {
            "text/plain": [
              "(0.0, 1.0)"
            ]
          },
          "metadata": {},
          "execution_count": 6
        }
      ]
    },
    {
      "cell_type": "code",
      "source": [
        "#define the object and initialize RNN\n",
        "\n",
        "model = tf.keras.models.Sequential()"
      ],
      "metadata": {
        "id": "oY4SWNPRjLTJ"
      },
      "execution_count": 7,
      "outputs": []
    },
    {
      "cell_type": "code",
      "source": [
        "# Now add the LSTM layers\n",
        "\n",
        "# add the first LSTM layer\n",
        "model.add(tf.keras.layers.LSTM(units = 128, activation = 'relu', return_sequences = True, input_shape = (28,28)))\n",
        "model.add(tf.keras.layers.Dropout(0.2))\n",
        "\n",
        "# add the second LSTM layer\n",
        "model.add(tf.keras.layers.LSTM(units = 128, activation = 'relu'))\n",
        "model.add(tf.keras.layers.Dropout(0.2))\n"
      ],
      "metadata": {
        "id": "bZFjWQPijOoH"
      },
      "execution_count": 8,
      "outputs": []
    },
    {
      "cell_type": "code",
      "source": [
        "#Adding the fully connected layers\n",
        "model.add(tf.keras.layers.Dense(units = 32, activation = 'relu'))\n",
        "model.add(tf.keras.layers.Dropout(0.2))\n",
        "\n",
        "#Add the output layer\n",
        "model.add(tf.keras.layers.Dense(units = 10, activation = 'softmax'))"
      ],
      "metadata": {
        "id": "_srrFxr-jQ9s"
      },
      "execution_count": 9,
      "outputs": []
    },
    {
      "cell_type": "code",
      "source": [
        "#specify the optimizer for your model\n",
        "opt = tf.keras.optimizers.Adam(learning_rate=0.001)"
      ],
      "metadata": {
        "id": "_TokuFvujT2J"
      },
      "execution_count": 10,
      "outputs": []
    },
    {
      "cell_type": "code",
      "source": [
        "#now compile the model\n",
        "model.compile(optimizer = opt, loss = 'sparse_categorical_crossentropy', metrics = ['accuracy'])"
      ],
      "metadata": {
        "id": "gFyHeRdHjXZS"
      },
      "execution_count": 11,
      "outputs": []
    },
    {
      "cell_type": "code",
      "source": [
        "history = model.fit(x_train, y_train, epochs = 10, validation_data= (x_test, y_test))"
      ],
      "metadata": {
        "colab": {
          "base_uri": "https://localhost:8080/"
        },
        "id": "E7qlnsCljaiG",
        "outputId": "3b359f8b-0f89-48bd-ab31-9a55b1569e06"
      },
      "execution_count": 12,
      "outputs": [
        {
          "output_type": "stream",
          "name": "stdout",
          "text": [
            "Epoch 1/10\n",
            "1875/1875 [==============================] - 215s 112ms/step - loss: 0.7146 - accuracy: 0.7625 - val_loss: 0.2006 - val_accuracy: 0.9437\n",
            "Epoch 2/10\n",
            "1875/1875 [==============================] - 201s 107ms/step - loss: 0.1726 - accuracy: 0.9537 - val_loss: 0.1062 - val_accuracy: 0.9677\n",
            "Epoch 3/10\n",
            "1875/1875 [==============================] - 194s 103ms/step - loss: 0.1140 - accuracy: 0.9705 - val_loss: 0.0626 - val_accuracy: 0.9817\n",
            "Epoch 4/10\n",
            "1875/1875 [==============================] - 201s 107ms/step - loss: 0.0905 - accuracy: 0.9767 - val_loss: 0.0673 - val_accuracy: 0.9832\n",
            "Epoch 5/10\n",
            "1875/1875 [==============================] - 198s 106ms/step - loss: 0.0722 - accuracy: 0.9810 - val_loss: 0.0515 - val_accuracy: 0.9856\n",
            "Epoch 6/10\n",
            "1875/1875 [==============================] - 199s 106ms/step - loss: 0.0619 - accuracy: 0.9835 - val_loss: 0.0612 - val_accuracy: 0.9853\n",
            "Epoch 7/10\n",
            "1875/1875 [==============================] - 196s 104ms/step - loss: 0.0653 - accuracy: 0.9836 - val_loss: 0.0691 - val_accuracy: 0.9809\n",
            "Epoch 8/10\n",
            "1875/1875 [==============================] - 198s 105ms/step - loss: 0.0535 - accuracy: 0.9868 - val_loss: 0.0590 - val_accuracy: 0.9853\n",
            "Epoch 9/10\n",
            "1875/1875 [==============================] - 201s 107ms/step - loss: 0.0444 - accuracy: 0.9888 - val_loss: 0.0384 - val_accuracy: 0.9896\n",
            "Epoch 10/10\n",
            "1875/1875 [==============================] - 199s 106ms/step - loss: 0.0408 - accuracy: 0.9895 - val_loss: 0.0475 - val_accuracy: 0.9868\n"
          ]
        }
      ]
    },
    {
      "cell_type": "code",
      "source": [
        "predicted_classes = model.predict(x_test)\n",
        "predicted_classes = np.argmax(predicted_classes, axis=1)"
      ],
      "metadata": {
        "colab": {
          "base_uri": "https://localhost:8080/"
        },
        "id": "F_WbhkKHjdhC",
        "outputId": "4040a6ce-979b-4ea0-ee34-0e6cd2f0be0f"
      },
      "execution_count": 13,
      "outputs": [
        {
          "output_type": "stream",
          "name": "stdout",
          "text": [
            "313/313 [==============================] - 11s 31ms/step\n"
          ]
        }
      ]
    },
    {
      "cell_type": "code",
      "source": [
        "print(predicted_classes[3]) , print(y_test[3])"
      ],
      "metadata": {
        "colab": {
          "base_uri": "https://localhost:8080/"
        },
        "id": "8h9PrGc5rPD6",
        "outputId": "1153366d-5ae0-45c0-a45a-c09a2adf8e32"
      },
      "execution_count": 14,
      "outputs": [
        {
          "output_type": "stream",
          "name": "stdout",
          "text": [
            "0\n",
            "0\n"
          ]
        },
        {
          "output_type": "execute_result",
          "data": {
            "text/plain": [
              "(None, None)"
            ]
          },
          "metadata": {},
          "execution_count": 14
        }
      ]
    },
    {
      "cell_type": "code",
      "source": [],
      "metadata": {
        "id": "X-_xbcZ-rWQM"
      },
      "execution_count": null,
      "outputs": []
    }
  ]
}